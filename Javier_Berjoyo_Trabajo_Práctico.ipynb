{
  "nbformat": 4,
  "nbformat_minor": 0,
  "metadata": {
    "colab": {
      "provenance": [],
      "include_colab_link": true
    },
    "kernelspec": {
      "name": "python3",
      "display_name": "Python 3"
    }
  },
  "cells": [
    {
      "cell_type": "markdown",
      "metadata": {
        "id": "view-in-github",
        "colab_type": "text"
      },
      "source": [
        "<a href=\"https://colab.research.google.com/github/hiden0/AlgoritmosOptimizacion/blob/master/Javier_Berjoyo_Trabajo_Pr%C3%A1ctico.ipynb\" target=\"_parent\"><img src=\"https://colab.research.google.com/assets/colab-badge.svg\" alt=\"Open In Colab\"/></a>"
      ]
    },
    {
      "cell_type": "markdown",
      "metadata": {
        "id": "hVbXYX-RfPWh"
      },
      "source": [
        "# Algoritmos de optimización - Trabajo Práctico<br>\n",
        "Nombre y Apellidos: Javier Berjoyo Madera <br>\n",
        "Url: https://github.com/hiden0/AlgoritmosOptimizacion/blob/master/Javier_Berjoyo_Trabajo_Pr%C3%A1ctico.ipynb<br>\n",
        "Google Colab: https://colab.research.google.com/drive/1c8WJFmuGdmO8cWfNR4GLahBHb1q_rXzp?usp=sharing <br>\n",
        "Problema:\n",
        "Sesiones de doblaje\n",
        "\n",
        "\n",
        "Descripción del problema:\n",
        "\n",
        "Se precisa coordinar el doblaje de una película. Los actores del doblaje deben coincidir en las\n",
        "tomas en las que sus personajes aparecen juntos en las diferentes tomas. Los actores de\n",
        "doblaje cobran todos la misma cantidad por cada día que deben desplazarse hasta el estudio de\n",
        "grabación independientemente del número de tomas que se graben. No es posible grabar más\n",
        "de 6 tomas por día. El objetivo es planificar las sesiones por día de manera que el gasto por los\n",
        "servicios de los actores de doblaje sea el menor posible.\n",
        "\n",
        "Los datos son:\n",
        "\n",
        "- Número de actores: 10 <br>\n",
        "- Número de tomas : 30  <br>\n",
        "- Actores/Tomas : https://bit.ly/36D8IuK <br>\n",
        "\n",
        "\n",
        "\n",
        "....\n",
        "\n",
        "\n",
        "\n",
        "\n",
        "\n",
        "\n",
        "\n",
        "                                        "
      ]
    },
    {
      "cell_type": "markdown",
      "source": [
        "### Función objetivo\n",
        "\n",
        "El problema consiste en asignar escenas (asociadas a actores) a días de grabación de manera que se minimice el total de actores-día utilizados. De tal forma que la función objetivo sería:\n",
        "$$\n",
        "Minimizar Z = \\sum_{i=1}^{D} \\sum_{j=1}^{A} X_{ij}\n",
        "$$\n",
        "\n",
        "En este caso, $D$ estaría asociado al número de días, $A$ al número de actores y la variable $X_{ij}$ sería el valor binario que indica si el actor $j$ acude el día $i$ al set de grabación.\n",
        "\n",
        "### Restricciones del problema\n",
        "\n",
        "El problema cuenta con ciertas restricciones que se deben tener en cuenta. Como el número de días de grabación y el número de tomas por día:\n",
        "$$ D ≤ 6 $$\n",
        "$$ T/D ≤ 6 $$\n",
        "\n",
        "Siendo $T$ el número de tomas.<br>\n",
        "También hay que acotar los valores de la variable $X_{ij}$:\n",
        "$$X_{ij} \\in \\{0, 1\\}$$\n",
        "\n",
        "Por último, todas las tomas deben ser asignadas a uno de los días:\n",
        "$$\\sum_{j=1}^{D} X_{ij} = 1 \\quad \\text{para todo } i \\in \\{1,2,\\dots,30\\}.$$"
      ],
      "metadata": {
        "id": "YyeJQTtexbLi"
      }
    },
    {
      "cell_type": "markdown",
      "source": [
        "#Análisis\n",
        "\n",
        "\n",
        "### Orden de complejidad\n",
        "El orden de complejidad de este problema dependerá de cómo se aborde y resuelva. Aquí hay algunas consideraciones:\n",
        "\n",
        "1. **Enumeración de todas las combinaciones posibles**: Si intentamos enumerar todas las posibles combinaciones de tomas distribuidas en días, el número total de combinaciones posibles es enorme. Este enfoque tendría un orden de complejidad exponencial.\n",
        "\n",
        "2. **Enfoque heurístico o algoritmo aproximado**: Si se utiliza un enfoque heurístico o un algoritmo aproximado para encontrar una solución que se acerque a la óptima, el orden de complejidad puede ser menor. Por ejemplo, se podrían utilizar técnicas de búsqueda local o algoritmos genéticos para explorar el espacio de soluciones de manera más eficiente. Sin embargo, la calidad de la solución obtenida puede no ser óptima.\n",
        "\n",
        "### Espacio de soluciones\n",
        "\n",
        "\n",
        "Si tenemos en cuenta las restricciones (6 tomas diarias) el número total de posibilidades se calcularía como: $$\\left(\\binom{n}{0} + \\binom{n}{1} + ... + \\binom{n}{6} \\right) n! $$  \n",
        "Lo cual da un total de $2.04 \\cdot 10^{38}$ posibles soluciones.\n"
      ],
      "metadata": {
        "id": "HZz52wOppp-U"
      }
    },
    {
      "cell_type": "markdown",
      "source": [
        "#Diseño\n",
        "Finalmente se va a hacer uso de algoritmos voraces para la optimización de este problema. Se modificarán los criterios de éstos para ver cual de ellos ofrece los mejores resultados."
      ],
      "metadata": {
        "id": "ixEJUwH_pv7M"
      }
    },
    {
      "cell_type": "code",
      "source": [
        "# Datos del problema\n",
        "num_actores = 10\n",
        "num_tomas = 30\n",
        "num_dias = 6\n",
        "dias = range(num_dias)\n",
        "actores = range(num_actores)\n",
        "tomas = range(num_tomas)\n",
        "\n",
        "# Matriz de actores/tomas\n",
        "actores_tomas = [\n",
        "    [1,1,1,1,1,0,0,0,0,0],\n",
        "    [0,0,1,1,1,0,0,0,0,0],\n",
        "    [0,1,0,0,1,0,1,0,0,0],\n",
        "    [1,1,0,0,0,0,1,1,0,0],\n",
        "    [0,1,0,1,0,0,0,1,0,0],\n",
        "    [1,1,0,1,1,0,0,0,0,0],\n",
        "    [1,1,0,1,1,0,0,0,0,0],\n",
        "    [1,1,0,0,0,1,0,0,0,0],\n",
        "    [1,1,0,1,0,0,0,0,0,0],\n",
        "    [1,1,0,0,0,1,0,0,1,0],\n",
        "    [1,1,1,0,1,0,0,1,0,0],\n",
        "    [1,1,1,1,0,1,0,0,0,0],\n",
        "    [1,0,0,1,1,0,0,0,0,0],\n",
        "    [1,0,1,0,0,1,0,0,0,0],\n",
        "    [1,1,0,0,0,0,1,0,0,0],\n",
        "    [0,0,0,1,0,0,0,0,0,1],\n",
        "    [1,0,1,0,0,0,0,0,0,0],\n",
        "    [0,0,1,0,0,1,0,0,0,0],\n",
        "    [1,0,1,0,0,0,0,0,0,0],\n",
        "    [1,0,1,1,1,0,0,0,0,0],\n",
        "    [0,0,0,0,0,1,0,1,0,0],\n",
        "    [1,1,1,1,0,0,0,0,0,0],\n",
        "    [1,0,1,0,0,0,0,0,0,0],\n",
        "    [0,0,1,0,0,1,0,0,0,0],\n",
        "    [1,1,0,1,0,0,0,0,0,1],\n",
        "    [1,0,1,0,1,0,0,0,1,0],\n",
        "    [0,0,0,1,1,0,0,0,0,0],\n",
        "    [1,0,0,1,0,0,0,0,0,0],\n",
        "    [1,0,0,0,1,1,0,0,0,0],\n",
        "    [1,0,0,1,0,0,0,0,0,0]\n",
        "]\n"
      ],
      "metadata": {
        "id": "keBkNGiTLNgF"
      },
      "execution_count": null,
      "outputs": []
    },
    {
      "cell_type": "markdown",
      "source": [
        "### Criterio voraz 1\n",
        "El primer criterio que seleccionaremos para el algoritmo voraz será el de seleccionar por orden las tomas con más actores en un mismo día."
      ],
      "metadata": {
        "id": "Lytq014xykd4"
      }
    },
    {
      "cell_type": "code",
      "source": [
        "# Inicializamos un diccionario para almacenar las asignaciones de tomas por día\n",
        "asignaciones_por_dia = {dia: [] for dia in range(num_dias)}\n",
        "\n",
        "# Ordenamos las tomas por el número de actores requeridos\n",
        "tomas_ordenadas = sorted(tomas, key=lambda i: sum(actores_tomas[i]),reverse=True)\n",
        "\n",
        "# Iteramos sobre las tomas ordenadas\n",
        "dia = 0\n",
        "for i in tomas_ordenadas:\n",
        "\n",
        "    # Verificamos si el número total de tomas en ese día no excede el límite de 6\n",
        "    if len(asignaciones_por_dia[dia]) <6:\n",
        "        # Asignamos la toma al día con menos tomas asignadas\n",
        "        asignaciones_por_dia[dia].append(i)\n",
        "    else:\n",
        "      dia+=1\n",
        "# Imprimimos las asignaciones por día\n",
        "for dia, tomas_asignadas in asignaciones_por_dia.items():\n",
        "    print(f\"Día {dia+1}: Tomas asignadas {tomas_asignadas}\")"
      ],
      "metadata": {
        "colab": {
          "base_uri": "https://localhost:8080/"
        },
        "id": "OjBRQfqckrel",
        "outputId": "076a9e02-e667-46af-b041-632364034631"
      },
      "execution_count": null,
      "outputs": [
        {
          "output_type": "stream",
          "name": "stdout",
          "text": [
            "Día 1: Tomas asignadas [0, 10, 11, 3, 5, 6]\n",
            "Día 2: Tomas asignadas [19, 21, 24, 25, 1, 2]\n",
            "Día 3: Tomas asignadas [7, 8, 12, 13, 14, 28]\n",
            "Día 4: Tomas asignadas [16, 17, 18, 20, 22, 23]\n",
            "Día 5: Tomas asignadas [27, 29]\n",
            "Día 6: Tomas asignadas []\n"
          ]
        }
      ]
    },
    {
      "cell_type": "markdown",
      "source": [
        "Comprobamos el coste:\n"
      ],
      "metadata": {
        "id": "qjjMEmC4zIIz"
      }
    },
    {
      "cell_type": "code",
      "source": [
        "import numpy as np\n",
        "def comprobar_coste(asignaciones_por_dia):\n",
        "  actores_dia=0\n",
        "  for dia, tomas_asignadas in asignaciones_por_dia.items():\n",
        "      tomas_dia=[]\n",
        "      for toma in tomas_asignadas:\n",
        "        #print(toma)\n",
        "        #print(actores_tomas[toma])\n",
        "        tomas_dia.append(actores_tomas[toma])\n",
        "      sumas_por_columna = np.sum(tomas_dia, axis=0)\n",
        "      columnas_con_unos = np.sum(sumas_por_columna > 0)\n",
        "      print(f\"Numero de actores del día {dia}: {columnas_con_unos}\")\n",
        "      actores_dia+=columnas_con_unos\n",
        "\n",
        "  print(f'Numero total de actores en el conjunto de dias: {actores_dia}')\n",
        "  return actores_dia"
      ],
      "metadata": {
        "id": "LgPLfvATzFca"
      },
      "execution_count": null,
      "outputs": []
    },
    {
      "cell_type": "code",
      "source": [
        "coste = comprobar_coste(asignaciones_por_dia)"
      ],
      "metadata": {
        "colab": {
          "base_uri": "https://localhost:8080/"
        },
        "id": "NLc8Qu393CVs",
        "outputId": "d07c2215-ec29-422c-9034-435d3626c641"
      },
      "execution_count": null,
      "outputs": [
        {
          "output_type": "stream",
          "name": "stdout",
          "text": [
            "Numero de actores del día 0: 8\n",
            "Numero de actores del día 1: 8\n",
            "Numero de actores del día 2: 7\n",
            "Numero de actores del día 3: 4\n",
            "Numero de actores del día 4: 2\n",
            "Numero de actores del día 5: 0\n",
            "Numero total de actores en el conjunto de dias: 29\n"
          ]
        }
      ]
    },
    {
      "cell_type": "markdown",
      "source": [
        "### Criterio voraz 2\n",
        "Cambiaremos el criterio, utilizando ahora como criterio la toma que más actores comparta con la seleccionada anteriormente, hasta rellenar las 6 tomas diarias."
      ],
      "metadata": {
        "id": "D6ioJaz03XV-"
      }
    },
    {
      "cell_type": "code",
      "source": [
        "# Inicializamos un diccionario para almacenar las asignaciones de tomas por día\n",
        "asignaciones_por_dia = {dia: [] for dia in range(num_dias)}\n",
        "\n",
        "# Ordenamos las tomas por el número de actores requeridos\n",
        "tomas_ordenadas = sorted(tomas, key=lambda i: sum(actores_tomas[i]),reverse=True)\n",
        "print(tomas_ordenadas)\n",
        "\n",
        "dias = range(6)\n",
        "\n",
        "for dia in dias:\n",
        "    #añado la toma disponible con mas participantes, la asigno como referencia y la borro del array original\n",
        "    if len(tomas_ordenadas)==0:\n",
        "      break\n",
        "    asignaciones_por_dia[dia].append(tomas_ordenadas[0])\n",
        "    toma_referencia = tomas_ordenadas[0]\n",
        "    tomas_ordenadas = np.delete(tomas_ordenadas, 0, axis=0)\n",
        "    for i in range(5):\n",
        "        # Calcular la suma de elementos coincidentes entre la fila de referencia y todas las demás filas\n",
        "        best_coincidencias=0\n",
        "        for toma in tomas_ordenadas:\n",
        "          coincidencias = np.sum(np.array(actores_tomas[toma_referencia]) & np.array(actores_tomas[toma]))\n",
        "          if coincidencias > best_coincidencias:\n",
        "            best_coincidencias = coincidencias\n",
        "            best_toma = toma\n",
        "        toma_referencia=best_toma\n",
        "        asignaciones_por_dia[dia].append(toma_referencia)\n",
        "        tomas_ordenadas=tomas_ordenadas[tomas_ordenadas != toma_referencia]\n",
        "\n",
        "\n"
      ],
      "metadata": {
        "colab": {
          "base_uri": "https://localhost:8080/"
        },
        "id": "AHILc-pH3XEX",
        "outputId": "8048577f-0864-4aba-eec0-1db76f3c9306"
      },
      "execution_count": null,
      "outputs": [
        {
          "output_type": "stream",
          "name": "stdout",
          "text": [
            "[0, 10, 11, 3, 5, 6, 9, 19, 21, 24, 25, 1, 2, 4, 7, 8, 12, 13, 14, 28, 15, 16, 17, 18, 20, 22, 23, 26, 27, 29]\n"
          ]
        }
      ]
    },
    {
      "cell_type": "code",
      "source": [
        "print(asignaciones_por_dia)\n",
        "coste = comprobar_coste(asignaciones_por_dia)"
      ],
      "metadata": {
        "colab": {
          "base_uri": "https://localhost:8080/"
        },
        "id": "LGRpcYwu3XBH",
        "outputId": "9d36c979-8536-49d0-c08f-3c3484d615a7"
      },
      "execution_count": null,
      "outputs": [
        {
          "output_type": "stream",
          "name": "stdout",
          "text": [
            "{0: [0, 10, 11, 21, 5, 6], 1: [3, 14, 9, 7, 24, 8], 2: [19, 25, 1, 12, 28, 13], 3: [2, 4, 15, 26, 27, 29], 4: [16, 18, 22, 17, 23, 20], 5: []}\n",
            "Numero de actores del día 0: 7\n",
            "Numero de actores del día 1: 8\n",
            "Numero de actores del día 2: 6\n",
            "Numero de actores del día 3: 7\n",
            "Numero de actores del día 4: 4\n",
            "Numero de actores del día 5: 0\n",
            "Numero total de actores en el conjunto de dias: 32\n"
          ]
        }
      ]
    },
    {
      "cell_type": "markdown",
      "source": [
        "### Criterio voraz 3\n",
        "La optimización, más allá de haber mejorado, por lo que hay que reforzar el criterio. La comparativa de coincidencias pasará de hacer con la última toma seleccionada a hacerse con todas las tomas anteriormente seleccionadas ese dia."
      ],
      "metadata": {
        "id": "W7aBuJmaCMke"
      }
    },
    {
      "cell_type": "code",
      "source": [
        "# Inicializamos un diccionario para almacenar las asignaciones de tomas por día\n",
        "asignaciones_por_dia = {dia: [] for dia in range(num_dias)}\n",
        "\n",
        "# Ordenamos las tomas por el número de actores requeridos\n",
        "tomas_ordenadas = sorted(tomas, key=lambda i: sum(actores_tomas[i]),reverse=True)\n",
        "print(tomas_ordenadas)\n",
        "actores_tomas = np.array(actores_tomas)\n",
        "dias = range(6)\n",
        "\n",
        "for dia in dias:\n",
        "    #añado la toma disponible con mas participantes, la asigno como referencia y la borro del array original\n",
        "    if len(tomas_ordenadas)==0:\n",
        "      break\n",
        "    asignaciones_por_dia[dia].append(tomas_ordenadas[0])\n",
        "    toma_referencia = tomas_ordenadas[0]\n",
        "    tomas_ordenadas = np.delete(tomas_ordenadas, 0, axis=0)\n",
        "    for i in range(5):\n",
        "        # Calcular la suma de elementos coincidentes entre la fila de referencia y todas las demás filas\n",
        "        best_coincidencias=0\n",
        "        for toma in tomas_ordenadas:\n",
        "          coincidencias = np.sum(np.all(np.array(actores_tomas[asignaciones_por_dia[dia]]) & np.array(actores_tomas[toma]), axis=0))\n",
        "          if coincidencias > best_coincidencias:\n",
        "            best_coincidencias = coincidencias\n",
        "            best_toma = toma\n",
        "        toma_referencia=best_toma\n",
        "        asignaciones_por_dia[dia].append(toma_referencia)\n",
        "        tomas_ordenadas=tomas_ordenadas[tomas_ordenadas != toma_referencia]\n"
      ],
      "metadata": {
        "colab": {
          "base_uri": "https://localhost:8080/"
        },
        "id": "ZE9QI-toCMEf",
        "outputId": "cbac7b5f-eb1c-428b-d1f0-08ad7f2a7704"
      },
      "execution_count": null,
      "outputs": [
        {
          "output_type": "stream",
          "name": "stdout",
          "text": [
            "[0, 10, 11, 3, 5, 6, 9, 19, 21, 24, 25, 1, 2, 4, 7, 8, 12, 13, 14, 28, 15, 16, 17, 18, 20, 22, 23, 26, 27, 29]\n"
          ]
        }
      ]
    },
    {
      "cell_type": "code",
      "source": [
        "print(asignaciones_por_dia)\n",
        "coste = comprobar_coste(asignaciones_por_dia)"
      ],
      "metadata": {
        "colab": {
          "base_uri": "https://localhost:8080/"
        },
        "id": "jgkhZKr3DTj3",
        "outputId": "0ae9c93b-a539-4e99-d0a2-5b718546ecb6"
      },
      "execution_count": null,
      "outputs": [
        {
          "output_type": "stream",
          "name": "stdout",
          "text": [
            "{0: [0, 10, 11, 21, 3, 5], 1: [6, 19, 12, 24, 8, 27], 2: [9, 7, 13, 28, 25, 14], 3: [1, 26, 2, 2, 2, 2], 4: [4, 15, 29, 29, 29, 29], 5: [16, 18, 22, 17, 23, 23]}\n",
            "Numero de actores del día 0: 8\n",
            "Numero de actores del día 1: 6\n",
            "Numero de actores del día 2: 7\n",
            "Numero de actores del día 3: 5\n",
            "Numero de actores del día 4: 5\n",
            "Numero de actores del día 5: 3\n",
            "Numero total de actores en el conjunto de dias: 34\n"
          ]
        }
      ]
    },
    {
      "cell_type": "markdown",
      "source": [
        "### Criterio voraz 4\n",
        "El criterio resulta demasiado restrictivo, por lo que los resultados son peores. Se cambia para utilizar la suma de coincidencias entre tomas en lugar de la coincidencia general."
      ],
      "metadata": {
        "id": "_PBbiddPOxVN"
      }
    },
    {
      "cell_type": "code",
      "source": [
        "# Inicializamos un diccionario para almacenar las asignaciones de tomas por día\n",
        "asignaciones_por_dia = {dia: [] for dia in range(num_dias)}\n",
        "\n",
        "# Ordenamos las tomas por el número de actores requeridos\n",
        "tomas_ordenadas = sorted(tomas, key=lambda i: sum(actores_tomas[i]),reverse=True)\n",
        "print(tomas_ordenadas)\n",
        "actores_tomas = np.array(actores_tomas)\n",
        "dias = range(6)\n",
        "\n",
        "for dia in dias:\n",
        "    #añado la toma disponible con mas participantes, la asigno como referencia y la borro del array original\n",
        "    if len(tomas_ordenadas)==0:\n",
        "      break\n",
        "    asignaciones_por_dia[dia].append(tomas_ordenadas[0])\n",
        "    toma_referencia = tomas_ordenadas[0]\n",
        "    tomas_ordenadas = np.delete(tomas_ordenadas, 0, axis=0)\n",
        "    for i in range(5):\n",
        "        # Calcular la suma de elementos coincidentes entre la fila de referencia y todas las demás filas\n",
        "        best_coincidencias=0\n",
        "        for toma in tomas_ordenadas:\n",
        "          coincidencias = np.sum(np.array(actores_tomas[asignaciones_por_dia[dia]]) & np.array(actores_tomas[toma]))\n",
        "          if coincidencias > best_coincidencias:\n",
        "            best_coincidencias = coincidencias\n",
        "            best_toma = toma\n",
        "        toma_referencia=best_toma\n",
        "        asignaciones_por_dia[dia].append(toma_referencia)\n",
        "        tomas_ordenadas=tomas_ordenadas[tomas_ordenadas != toma_referencia]\n"
      ],
      "metadata": {
        "colab": {
          "base_uri": "https://localhost:8080/"
        },
        "id": "UPMdIyrKOwOV",
        "outputId": "7eaa9427-deb9-4f9f-ced4-ce7c7e02a072"
      },
      "execution_count": null,
      "outputs": [
        {
          "output_type": "stream",
          "name": "stdout",
          "text": [
            "[0, 10, 11, 3, 5, 6, 9, 19, 21, 24, 25, 1, 2, 4, 7, 8, 12, 13, 14, 28, 15, 16, 17, 18, 20, 22, 23, 26, 27, 29]\n"
          ]
        }
      ]
    },
    {
      "cell_type": "code",
      "source": [
        "print(asignaciones_por_dia)\n",
        "coste = comprobar_coste(asignaciones_por_dia)"
      ],
      "metadata": {
        "colab": {
          "base_uri": "https://localhost:8080/"
        },
        "id": "Gy1fuQ8KPU2w",
        "outputId": "f093420b-5eba-4c21-b6e3-02b1a133c722"
      },
      "execution_count": null,
      "outputs": [
        {
          "output_type": "stream",
          "name": "stdout",
          "text": [
            "{0: [0, 10, 11, 21, 5, 6], 1: [3, 14, 9, 7, 24, 8], 2: [19, 25, 1, 12, 28, 13], 3: [2, 4, 26, 15, 27, 29], 4: [16, 18, 22, 17, 23, 20], 5: []}\n",
            "Numero de actores del día 0: 7\n",
            "Numero de actores del día 1: 8\n",
            "Numero de actores del día 2: 6\n",
            "Numero de actores del día 3: 7\n",
            "Numero de actores del día 4: 4\n",
            "Numero de actores del día 5: 0\n",
            "Numero total de actores en el conjunto de dias: 32\n"
          ]
        }
      ]
    },
    {
      "cell_type": "markdown",
      "source": [
        "Los resultados son los mismos que con el criterio 2."
      ],
      "metadata": {
        "id": "a7YTzrz4PYfw"
      }
    }
  ]
}